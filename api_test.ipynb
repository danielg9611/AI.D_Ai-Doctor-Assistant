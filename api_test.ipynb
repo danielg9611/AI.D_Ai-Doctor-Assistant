{
 "cells": [
  {
   "cell_type": "code",
   "execution_count": 1,
   "id": "b4a65ba8",
   "metadata": {},
   "outputs": [],
   "source": [
    "import requests"
   ]
  },
  {
   "cell_type": "code",
   "execution_count": 2,
   "id": "53ee11bc",
   "metadata": {},
   "outputs": [],
   "source": [
    "data = {\n",
    "    \"padecimiento\": \"test\",\n",
    "    \"especialidad\": \"test\",\n",
    "    \"urgencia\": \"urgente\",\n",
    "    'prescripcion' : 'Reservada',\n",
    "    'sintomas' : 'test',\n",
    "    'paciente' : 1,\n",
    "    'doctor' : 1\n",
    "}"
   ]
  },
  {
   "cell_type": "code",
   "execution_count": null,
   "id": "dce542f7",
   "metadata": {},
   "outputs": [],
   "source": []
  },
  {
   "cell_type": "code",
   "execution_count": 15,
   "id": "f59d4142",
   "metadata": {},
   "outputs": [
    {
     "name": "stdout",
     "output_type": "stream",
     "text": [
      "Ticket creado correctamente\n"
     ]
    }
   ],
   "source": [
    "try:\n",
    "    response = requests.post(\n",
    "        \"http://localhost:8000/api/tickets/post\",\n",
    "        json=data\n",
    "    )\n",
    "    if response.status_code == 200:\n",
    "        print(\"Ticket creado correctamente\")\n",
    "    else:\n",
    "        print(f\"Error al crear ticket: {response.status_code} - {response.text}\")\n",
    "except Exception as e:\n",
    "    st.error(f\"Error de conexión al crear ticket: {e}\")"
   ]
  },
  {
   "cell_type": "code",
   "execution_count": 16,
   "id": "4be005a9",
   "metadata": {},
   "outputs": [
    {
     "data": {
      "text/plain": [
       "<Response [200]>"
      ]
     },
     "execution_count": 16,
     "metadata": {},
     "output_type": "execute_result"
    }
   ],
   "source": [
    "response"
   ]
  },
  {
   "cell_type": "code",
   "execution_count": 17,
   "id": "b014d70f",
   "metadata": {},
   "outputs": [
    {
     "data": {
      "text/plain": [
       "b'{\"message\":\"Ticket creado\"}'"
      ]
     },
     "execution_count": 17,
     "metadata": {},
     "output_type": "execute_result"
    }
   ],
   "source": [
    "response.content"
   ]
  },
  {
   "cell_type": "code",
   "execution_count": null,
   "id": "6da7bdb8",
   "metadata": {},
   "outputs": [],
   "source": []
  }
 ],
 "metadata": {
  "kernelspec": {
   "display_name": ".venv",
   "language": "python",
   "name": "python3"
  },
  "language_info": {
   "codemirror_mode": {
    "name": "ipython",
    "version": 3
   },
   "file_extension": ".py",
   "mimetype": "text/x-python",
   "name": "python",
   "nbconvert_exporter": "python",
   "pygments_lexer": "ipython3",
   "version": "3.12.10"
  }
 },
 "nbformat": 4,
 "nbformat_minor": 5
}
