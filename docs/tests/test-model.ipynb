{
 "cells": [
  {
   "cell_type": "code",
   "execution_count": 14,
   "id": "408bec14",
   "metadata": {},
   "outputs": [],
   "source": [
    "from langchain_google_genai import ChatGoogleGenerativeAI\n",
    "from langchain.prompts import PromptTemplate, SystemMessagePromptTemplate, ChatPromptTemplate, HumanMessagePromptTemplate\n",
    "from langchain.agents import load_tools, initialize_agent, AgentType, create_react_agent, AgentExecutor\n",
    "from langchain.memory import ConversationBufferMemory\n",
    "\n",
    "import os\n",
    "from dotenv import load_dotenv"
   ]
  },
  {
   "cell_type": "code",
   "execution_count": 15,
   "id": "b6b72135",
   "metadata": {},
   "outputs": [],
   "source": [
    "load_dotenv('.env')\n",
    "\n",
    "API_KEY = os.getenv(\"GEMINI_API_KEY\")"
   ]
  },
  {
   "cell_type": "code",
   "execution_count": 16,
   "id": "181ebb41",
   "metadata": {},
   "outputs": [
    {
     "data": {
      "text/plain": [
       "AIMessage(content='(Verse 1)\\nIn realms of code, a legend grew,\\nOf language models, strong and true.\\nBut chains were needed, links to bind,\\nTo make these minds of the digital kind,\\nA force for good, a helpful hand,\\nThus LangChain rose across the land.\\n\\n(Verse 2)\\nThe humble prompt, a simple plea,\\nTo generate text, for all to see.\\nBut LangChain whispered, \"There is more!\\nThan single answers at the core.\\nLet\\'s build a flow, a reasoning chain,\\nTo conquer tasks, and ease the pain.\"\\n\\n(Verse 3)\\nFrom Agents bold, with tools to wield,\\nTo Retrieval chains, the knowledge field,\\nA vast vector store, a hidden trove,\\nWhere information starts to rove.\\nWith Embeddings deep, they find their way,\\nTo answer queries, come what may.\\n\\n(Verse 4)\\nThe Memories long, they never fade,\\nOf conversations that were made.\\nContext kept, the history clear,\\nNo longer lost, year after year.\\nThe model learns, with every call,\\nAnd builds upon the rise and fall.\\n\\n(Verse 5)\\nThe Callbacks sing, a watchful eye,\\nOn every step, as processes fly.\\nDebugging flows, with tracing bright,\\nTo banish darkness, bring the light.\\nA framework strong, for all to see,\\nThe power of LangChain, wild and free.\\n\\n(Verse 6)\\nBut challenges remain, it\\'s true,\\nThe cost of tokens, seen anew.\\nAnd biases lurk, within the code,\\nA heavy burden, to be bestowed.\\nYet LangChain strives, with constant grace,\\nTo build a future, in this digital space.\\n\\n(Verse 7)\\nSo raise a glass, to the tireless team,\\nWho built this engine, like a dream.\\nFor LangChain stands, a guiding light,\\nIn the complex world of day and night.\\nA tool for good, a force to find,\\nThe boundless potential of the mind.\\n\\n(Verse 8)\\nAnd as the models learn and grow,\\nMay LangChain\\'s wisdom ever flow.\\nTo build a future, bright and grand,\\nWith AI guided, by a steady hand.\\nSo sing its praises, loud and clear,\\nFor LangChain\\'s triumph, year by year!', additional_kwargs={}, response_metadata={'prompt_feedback': {'block_reason': 0, 'safety_ratings': []}, 'finish_reason': 'STOP', 'model_name': 'gemini-2.0-flash', 'safety_ratings': []}, id='run--f05e8ea1-074b-4fa8-ba61-cdbce5aa0706-0', usage_metadata={'input_tokens': 7, 'output_tokens': 511, 'total_tokens': 518, 'input_token_details': {'cache_read': 0}})"
      ]
     },
     "execution_count": 16,
     "metadata": {},
     "output_type": "execute_result"
    }
   ],
   "source": [
    "llm = ChatGoogleGenerativeAI(model=\"gemini-2.0-flash\", google_api_key=API_KEY)\n",
    "llm.invoke(\"Write me a ballad about LangChain\")"
   ]
  },
  {
   "cell_type": "code",
   "execution_count": 18,
   "id": "3c1b53d3",
   "metadata": {},
   "outputs": [],
   "source": [
    "memory = ConversationBufferMemory(memory_key='chat_history')\n",
    "tools = load_tools(['pubmed'], llm=llm)"
   ]
  },
  {
   "cell_type": "code",
   "execution_count": 20,
   "id": "8d063d5b",
   "metadata": {},
   "outputs": [
    {
     "name": "stderr",
     "output_type": "stream",
     "text": [
      "C:\\Users\\danie\\AppData\\Local\\Temp\\ipykernel_28256\\799066678.py:1: LangChainDeprecationWarning: LangChain agents will continue to be supported, but it is recommended for new use cases to be built with LangGraph. LangGraph offers a more flexible and full-featured framework for building agents, including support for tool-calling, persistence of state, and human-in-the-loop workflows. For details, refer to the `LangGraph documentation <https://langchain-ai.github.io/langgraph/>`_ as well as guides for `Migrating from AgentExecutor <https://python.langchain.com/docs/how_to/migrate_agent/>`_ and LangGraph's `Pre-built ReAct agent <https://langchain-ai.github.io/langgraph/how-tos/create-react-agent/>`_.\n",
      "  agent = initialize_agent(tools, llm, agent=AgentType.CONVERSATIONAL_REACT_DESCRIPTION, memory=memory, verbose=True)\n"
     ]
    }
   ],
   "source": [
    "agent = initialize_agent(tools, llm, agent=AgentType.CONVERSATIONAL_REACT_DESCRIPTION, memory=memory, verbose=True)"
   ]
  },
  {
   "cell_type": "code",
   "execution_count": 21,
   "id": "d0d26f1e",
   "metadata": {},
   "outputs": [
    {
     "name": "stdout",
     "output_type": "stream",
     "text": [
      "\n",
      "\n",
      "\u001b[1m> Entering new AgentExecutor chain...\u001b[0m\n",
      "\u001b[32;1m\u001b[1;3m```\n",
      "Thought: Do I need to use a tool? Yes\n",
      "Action: pub_med\n",
      "Action Input: vomiting and diarrhea causes\u001b[0m\n",
      "Observation: \u001b[36;1m\u001b[1;3mPublished: 2025-05-23\n",
      "Title: Clinical features and management strategies of acute soluble barium poisoning: a review of case reports.\n",
      "Copyright Information: \n",
      "Summary::\n",
      "+\n",
      "Soluble barium salts including barium carbonate, nitrate, acetate, and chloride are commonly used in the manufacture of ceramics, insecticides, and rodenticides. Soluble barium salts are highly toxic to humans if ingested. Acute soluble barium poisoning is an uncommon but life-threatening problem. The fatal dose of barium chloride for man has been reported to be only 0.8 to 0.9 gram. Currently, there have been no systematic studies on acute soluble barium poisoning. Based on the retrospective analysis of 55 global cases, toxicological characteristics, clinical features and management of acute soluble barium poisoning were summarized. Barium is a competitive blocker of potassium inward rectifier channels to inhibit K efflux, resulting in profound hypokalemia. Acute soluble barium poisoning can result in gastrointestinal effects including vomiting and diarrhea, followed by hemodynamic disturbances, cardiac arrhythmias, muscle weakness, and cardiac arrest. Respiratory failure induced by muscle paralysis is the major cause of death. Management strategies mainly include prevention of barium absorption, administration of soluble sulfates, potassium supplementation, antiarrhythmic medications, hemodialysis/CVVHDF, and cardiorespiratory support. Timely administration of decontamination and correction of hypokalemia are the two important points. This narrative review will offer crucial information for treating patients with acute soluble barium poisoning.\n",
      "\n",
      "Published: 2025-04-30\n",
      "Title: Acute Abdominal Pain with Obstructing Trichobezoar: A Pediatric Case of Rapunzel Syndrome Diagnosed in a Pediatric Emergency Department.\n",
      "Copyright Information: \n",
      "Summary::\n",
      "INTRODUCTION: Acute abdominal pain is a prevalent complaint in pediatric emergency departments. Primary care physicians can find it challenging to treat such \u001b[0m\n",
      "Thought:\u001b[32;1m\u001b[1;3mDo I need to use a tool? No\n",
      "AI: Vomiting and diarrhea can be caused by a variety of factors, including infections (like viral gastroenteritis), food poisoning, medication side effects, or underlying medical conditions. It's important to stay hydrated by drinking plenty of fluids like water, clear broths, or electrolyte solutions. If your symptoms are severe, persist for more than a day or two, or if you have other concerning symptoms like high fever, severe abdominal pain, or bloody stools, it's best to seek medical attention for proper diagnosis and treatment.\u001b[0m\n",
      "\n",
      "\u001b[1m> Finished chain.\u001b[0m\n"
     ]
    },
    {
     "data": {
      "text/plain": [
       "{'input': 'Tengo vomitos y dairrea, que puede ser?',\n",
       " 'chat_history': '',\n",
       " 'output': \"Vomiting and diarrhea can be caused by a variety of factors, including infections (like viral gastroenteritis), food poisoning, medication side effects, or underlying medical conditions. It's important to stay hydrated by drinking plenty of fluids like water, clear broths, or electrolyte solutions. If your symptoms are severe, persist for more than a day or two, or if you have other concerning symptoms like high fever, severe abdominal pain, or bloody stools, it's best to seek medical attention for proper diagnosis and treatment.\"}"
      ]
     },
     "execution_count": 21,
     "metadata": {},
     "output_type": "execute_result"
    }
   ],
   "source": [
    "agent.invoke('Tengo vomitos y dairrea, que puede ser?')"
   ]
  },
  {
   "cell_type": "code",
   "execution_count": 22,
   "id": "6eb59479",
   "metadata": {},
   "outputs": [
    {
     "name": "stdout",
     "output_type": "stream",
     "text": [
      "\n",
      "\n",
      "\u001b[1m> Entering new AgentExecutor chain...\u001b[0m\n",
      "\u001b[32;1m\u001b[1;3m```\n",
      "Thought: Do I need to use a tool? Yes\n",
      "Action: pub_med\n",
      "Action Input: symptoms associated with vomiting and diarrhea\u001b[0m\n",
      "Observation: \u001b[36;1m\u001b[1;3mPublished: 2025-05-23\n",
      "Title: Prevalence, clinical features, and possible associated factors of mesenteric vasculitis occurrence in patients with systemic lupus erythematosus: An age-, year-at SLE diagnosis, and disease duration-controlled study.\n",
      "Copyright Information: \n",
      "Summary::\n",
      "ObjectivesStudies on associated or risk factors of lupus mesenteric vasculitis (LMV) in patients with systemic lupus erythematosus (SLE) are limited. This study aimed to determine the prevalence, clinical features, treatment, and outcomes of LMV in Thai SLE patients, and to identify potential factors that predispose to its occurrence.MethodsSLE patients with LMV were identified in a lupus cohort. Controls were matched to cases by age-, year-at SLE diagnosis, and disease duration (cases:controls = 1:2).ResultsOf 1538 patients in the cohort, 34 (2.2%) had 42 LMV episodes, but 39 episodes from 31 patients had adequate data for analysis. Nausea, vomiting and diarrhea were noted in 61.5%-69.2%. All of the patients had abdominal pain (diffuse in 64.1%), and 12.8%-15.4% had signs of peritoneal irritation. Small bowel and colon were common sites involved. All episodes responded well to corticosteroids and immunosuppressive drugs. When compared to the controls, at LMV onset, LMV patients had more active disease in renal, mucocutaneous and hematologic systems. They had a higher degree of proteinuria, and SLE disease activity (mSLEDAI-2K score). At 3 months prior to LMV onset, the LMV group was more anemic and had higher proteinuria. The LMV patients received less prednisolone and fewer immunosuppressive drugs at LMV onset, and fewer immunosuppressive drugs at 3 months prior to it. They received a higher daily dose of prednisolone in both periods.ConclusionLMV is a rare manifestation in SLE. Active disease, particularly in the renal and hematologic systems, was common prior to LMV onset.\n",
      "\n",
      "Published: --\n",
      "Title: Lipschütz Ulcers In 12-year-old Premenarchal Female Days After A Gastrointestinal Illness: A C\u001b[0m\n",
      "Thought:\u001b[32;1m\u001b[1;3mDo I need to use a tool? No\n",
      "AI: Other symptoms that can accompany vomiting and diarrhea include nausea, abdominal pain (which can be diffuse), and in some cases, signs of peritoneal irritation. The study also mentions that in the context of Systemic Lupus Erythematosus, active disease in renal, mucocutaneous, and hematologic systems can be present. However, these are specific to that condition.\u001b[0m\n",
      "\n",
      "\u001b[1m> Finished chain.\u001b[0m\n"
     ]
    },
    {
     "data": {
      "text/plain": [
       "{'input': 'Que otros sintomas pueden venir acompañados?',\n",
       " 'chat_history': \"Human: Tengo vomitos y dairrea, que puede ser?\\nAI: Vomiting and diarrhea can be caused by a variety of factors, including infections (like viral gastroenteritis), food poisoning, medication side effects, or underlying medical conditions. It's important to stay hydrated by drinking plenty of fluids like water, clear broths, or electrolyte solutions. If your symptoms are severe, persist for more than a day or two, or if you have other concerning symptoms like high fever, severe abdominal pain, or bloody stools, it's best to seek medical attention for proper diagnosis and treatment.\",\n",
       " 'output': 'Other symptoms that can accompany vomiting and diarrhea include nausea, abdominal pain (which can be diffuse), and in some cases, signs of peritoneal irritation. The study also mentions that in the context of Systemic Lupus Erythematosus, active disease in renal, mucocutaneous, and hematologic systems can be present. However, these are specific to that condition.'}"
      ]
     },
     "execution_count": 22,
     "metadata": {},
     "output_type": "execute_result"
    }
   ],
   "source": [
    "agent.invoke('Que otros sintomas pueden venir acompañados?')"
   ]
  },
  {
   "cell_type": "code",
   "execution_count": 23,
   "id": "5e1a8b13",
   "metadata": {},
   "outputs": [
    {
     "name": "stdout",
     "output_type": "stream",
     "text": [
      "\n",
      "\n",
      "\u001b[1m> Entering new AgentExecutor chain...\u001b[0m\n",
      "\u001b[32;1m\u001b[1;3m```\n",
      "Thought: Do I need to use a tool? Yes\n",
      "Action: pub_med\n",
      "Action Input: vomiting diarrhea headache abdominal pain causes\u001b[0m\n",
      "Observation: \u001b[36;1m\u001b[1;3mPublished: 2025-05-07\n",
      "Title: Anthrax outbreak linked to consumption and handling of meat from unexpectedly deceased cattle, Kyotera district, Uganda, June-December 2023.\n",
      "Copyright Information: © 2025. The Author(s).\n",
      "Summary::\n",
      "BACKGROUND: Anthrax is an infectious zoonotic disease caused by gram-positive, rod-shaped, and spore-forming bacteria known as Bacillus anthracis. It continues to be a disease of public health importance in Uganda, with sporadic outbreaks reported annually in many parts of the country. In November 2023, Kyotera District reported a strange illness, characterized by itching, rash, swelling, and skin lesions which was later confirmed as anthrax. We investigated to assess its magnitude, identify potential exposures, and propose evidence-based control measures.\n",
      "METHODS: A suspected cutaneous anthrax case was an acute onset of skin itching/swelling plus ≥ 2 of: skin reddening, lymphadenopathy, headache, fever or general body weakness. A suspected gastrointestinal anthrax case was an acute onset of ≥ 2 of: abdominal pain, vomiting, diarrhea, mouth lesions or neck swelling. A confirmed anthrax case was a suspected case with Bacillus anthracis PCR-positive results. To identify cases, we reviewed medical records and conducted community active case-finding. We conducted an unmatched case-control study and used logistic regression to identify risk factors of anthrax transmission. Controls were selected at a 1:4 ratio from the same villages as the case-patients.\n",
      "RESULTS: We identified 63 cases (46 suspected and 17 confirmed); 48 (76%) were male. Of the 63, 55 cases (87%) were cutaneous and 8 (13%) were gastrointestinal, with a mean age of 42 years. Overall attack rate (AR) was 3.1/1,000; males were more affected (AR = 4.5/1,000) than females (AR = 1.5/1,000). Case-fatality rate was 19% (n = 12). Among the 63 cases, 18 (29%) sought care from health facilities; 33 (52%) were managed by traditional healers. The odds of anthrax infection were highest in individ\u001b[0m\n",
      "Thought:\u001b[32;1m\u001b[1;3mDo I need to use a tool? Yes\n",
      "Action: pub_med\n",
      "Action Input: differential diagnosis vomiting diarrhea headache abdominal pain\u001b[0m\n",
      "Observation: \u001b[36;1m\u001b[1;3mPublished: 2024-10-06\n",
      "Title: A new scoring in differential diagnosis: multisystem inflammatory syndrome or adenovirus infection?\n",
      "Copyright Information: © TÜBİTAK.\n",
      "Summary::\n",
      "BACKGROUND/AIM: Differentiating multisystem inflammatory syndrome in children (MIS-C) from adenovirus infection (AI) can be challenging due to similar clinical and laboratory findings. This study aimed to identify distinguishing characteristics and develop a scoring system to facilitate accurate diagnosis.\n",
      "MATERIALS AND METHODS: A comprehensive review of medical records was undertaken for 108 MIS-C patients and 259 patients with confirmed AI. A comparison of laboratory data and clinical findings was conducted across the patient groups using appropriate statistical tests.\n",
      "RESULTS: The MIS-C patients were significantly older than the AI patients (p < 0.001). Diarrhea, rash, abdominal pain, vomiting, nonexudative conjunctivitis, lymphadenopathy tachycardia, bradycardia, hypotension, hypoxia seizures, agitation, headache, and altered consciousness symptoms were more frequently associated with MIS-C (p < 0.001), while cough and runny nose were significantly more common in AI (p < 0.001). Lymphopenia and thrombocytopenia were more prevalent in the MIS-C patients (p < 0.001). AI and MIS-C were scored by giving one point each to the parameters that created the difference. For AI, being ≤60 months of age, the presence of cough, runny nose and absence of diarrhea, rash, abdominal pain, vomiting, nonexudative conjunctivitis, lymphadenopathy, tachycardia, bradycardia, hypotension, hypoxia seizures, agitation, headache, and altered consciousness, lymphopenia, thrombocytopenia, and C-reactive protein value <124.5 mg/L were determined as each parameter plus one point. A total score above 14 could predict AI with a high degree of accuracy, with sensitivity at around 97.5% and specificity at 92.6%.\n",
      "CONCLUSION: The proposed inpatient scoring system, when used in conjunction with polymerase chain reaction testing, \u001b[0m\n",
      "Thought:\u001b[32;1m\u001b[1;3mDo I need to use a tool? No\n",
      "AI: Based on your symptoms of vomiting, diarrhea, headache, and abdominal pain, it could be a number of things. Some possibilities include a viral infection (like gastroenteritis or even adenovirus), food poisoning, or even something like the early stages of anthrax (though that's less likely). The study I found also mentions multisystem inflammatory syndrome in children (MIS-C), but that's less likely given that it is in children. It's really important to see a doctor for a proper diagnosis, especially since some of these conditions can become serious. They'll be able to run tests and figure out exactly what's going on and the best way to treat it.\u001b[0m\n",
      "\n",
      "\u001b[1m> Finished chain.\u001b[0m\n"
     ]
    },
    {
     "data": {
      "text/plain": [
       "{'input': 'Tambien tengo dolores de cabeza y de estomago, puedes ayudarme a definir que tengo? Ire al medico, pero antes quiero saber',\n",
       " 'chat_history': \"Human: Tengo vomitos y dairrea, que puede ser?\\nAI: Vomiting and diarrhea can be caused by a variety of factors, including infections (like viral gastroenteritis), food poisoning, medication side effects, or underlying medical conditions. It's important to stay hydrated by drinking plenty of fluids like water, clear broths, or electrolyte solutions. If your symptoms are severe, persist for more than a day or two, or if you have other concerning symptoms like high fever, severe abdominal pain, or bloody stools, it's best to seek medical attention for proper diagnosis and treatment.\\nHuman: Que otros sintomas pueden venir acompañados?\\nAI: Other symptoms that can accompany vomiting and diarrhea include nausea, abdominal pain (which can be diffuse), and in some cases, signs of peritoneal irritation. The study also mentions that in the context of Systemic Lupus Erythematosus, active disease in renal, mucocutaneous, and hematologic systems can be present. However, these are specific to that condition.\",\n",
       " 'output': \"Based on your symptoms of vomiting, diarrhea, headache, and abdominal pain, it could be a number of things. Some possibilities include a viral infection (like gastroenteritis or even adenovirus), food poisoning, or even something like the early stages of anthrax (though that's less likely). The study I found also mentions multisystem inflammatory syndrome in children (MIS-C), but that's less likely given that it is in children. It's really important to see a doctor for a proper diagnosis, especially since some of these conditions can become serious. They'll be able to run tests and figure out exactly what's going on and the best way to treat it.\"}"
      ]
     },
     "execution_count": 23,
     "metadata": {},
     "output_type": "execute_result"
    }
   ],
   "source": [
    "agent.invoke('Tambien tengo dolores de cabeza y de estomago, puedes ayudarme a definir que tengo? Ire al medico, pero antes quiero saber')"
   ]
  },
  {
   "cell_type": "code",
   "execution_count": 24,
   "id": "736a5783",
   "metadata": {},
   "outputs": [
    {
     "name": "stdout",
     "output_type": "stream",
     "text": [
      "\n",
      "\n",
      "\u001b[1m> Entering new AgentExecutor chain...\u001b[0m\n",
      "\u001b[32;1m\u001b[1;3m```\n",
      "Thought: Do I need to use a tool? No\n",
      "AI: Given your symptoms of vomiting, diarrhea, headache, and stomach pain, the most likely possibilities are a viral infection (like gastroenteritis, often called the stomach flu) or food poisoning. These are much more common than some of the other, less likely conditions. However, it's still important to see a doctor to rule out anything serious and get a definitive diagnosis.\n",
      "```\u001b[0m\n",
      "\n",
      "\u001b[1m> Finished chain.\u001b[0m\n"
     ]
    },
    {
     "data": {
      "text/plain": [
       "{'input': 'Que dirias que existe mas posibilidad de que tenga yo?',\n",
       " 'chat_history': \"Human: Tengo vomitos y dairrea, que puede ser?\\nAI: Vomiting and diarrhea can be caused by a variety of factors, including infections (like viral gastroenteritis), food poisoning, medication side effects, or underlying medical conditions. It's important to stay hydrated by drinking plenty of fluids like water, clear broths, or electrolyte solutions. If your symptoms are severe, persist for more than a day or two, or if you have other concerning symptoms like high fever, severe abdominal pain, or bloody stools, it's best to seek medical attention for proper diagnosis and treatment.\\nHuman: Que otros sintomas pueden venir acompañados?\\nAI: Other symptoms that can accompany vomiting and diarrhea include nausea, abdominal pain (which can be diffuse), and in some cases, signs of peritoneal irritation. The study also mentions that in the context of Systemic Lupus Erythematosus, active disease in renal, mucocutaneous, and hematologic systems can be present. However, these are specific to that condition.\\nHuman: Tambien tengo dolores de cabeza y de estomago, puedes ayudarme a definir que tengo? Ire al medico, pero antes quiero saber\\nAI: Based on your symptoms of vomiting, diarrhea, headache, and abdominal pain, it could be a number of things. Some possibilities include a viral infection (like gastroenteritis or even adenovirus), food poisoning, or even something like the early stages of anthrax (though that's less likely). The study I found also mentions multisystem inflammatory syndrome in children (MIS-C), but that's less likely given that it is in children. It's really important to see a doctor for a proper diagnosis, especially since some of these conditions can become serious. They'll be able to run tests and figure out exactly what's going on and the best way to treat it.\",\n",
       " 'output': \"Given your symptoms of vomiting, diarrhea, headache, and stomach pain, the most likely possibilities are a viral infection (like gastroenteritis, often called the stomach flu) or food poisoning. These are much more common than some of the other, less likely conditions. However, it's still important to see a doctor to rule out anything serious and get a definitive diagnosis.\\n```\"}"
      ]
     },
     "execution_count": 24,
     "metadata": {},
     "output_type": "execute_result"
    }
   ],
   "source": [
    "agent.invoke('Que dirias que existe mas posibilidad de que tenga yo?')"
   ]
  },
  {
   "cell_type": "code",
   "execution_count": 25,
   "id": "e955ea70",
   "metadata": {},
   "outputs": [
    {
     "name": "stdout",
     "output_type": "stream",
     "text": [
      "\n",
      "\n",
      "\u001b[1m> Entering new AgentExecutor chain...\u001b[0m\n",
      "\u001b[32;1m\u001b[1;3m```\n",
      "Thought: Do I need to use a tool? No\n",
      "AI: Since you're experiencing vomiting, diarrhea, headache, and stomach pain, the most important thing you should do is stay hydrated. Drink plenty of fluids like water, clear broths, or electrolyte solutions. Avoid sugary drinks, as they can sometimes worsen diarrhea. Rest as much as possible, and try to eat bland foods if you can tolerate them (like toast, crackers, or bananas). And as I mentioned before, it's really important to see a doctor soon to get a proper diagnosis and treatment plan. They can determine if it's a viral infection, food poisoning, or something else, and give you the best advice for managing your symptoms.\n",
      "```\u001b[0m\n",
      "\n",
      "\u001b[1m> Finished chain.\u001b[0m\n"
     ]
    }
   ],
   "source": [
    "result = agent.invoke('Que deberia hacer?')"
   ]
  },
  {
   "cell_type": "code",
   "execution_count": 26,
   "id": "b57f0507",
   "metadata": {},
   "outputs": [
    {
     "data": {
      "text/plain": [
       "{'input': 'Que deberia hacer?',\n",
       " 'chat_history': \"Human: Tengo vomitos y dairrea, que puede ser?\\nAI: Vomiting and diarrhea can be caused by a variety of factors, including infections (like viral gastroenteritis), food poisoning, medication side effects, or underlying medical conditions. It's important to stay hydrated by drinking plenty of fluids like water, clear broths, or electrolyte solutions. If your symptoms are severe, persist for more than a day or two, or if you have other concerning symptoms like high fever, severe abdominal pain, or bloody stools, it's best to seek medical attention for proper diagnosis and treatment.\\nHuman: Que otros sintomas pueden venir acompañados?\\nAI: Other symptoms that can accompany vomiting and diarrhea include nausea, abdominal pain (which can be diffuse), and in some cases, signs of peritoneal irritation. The study also mentions that in the context of Systemic Lupus Erythematosus, active disease in renal, mucocutaneous, and hematologic systems can be present. However, these are specific to that condition.\\nHuman: Tambien tengo dolores de cabeza y de estomago, puedes ayudarme a definir que tengo? Ire al medico, pero antes quiero saber\\nAI: Based on your symptoms of vomiting, diarrhea, headache, and abdominal pain, it could be a number of things. Some possibilities include a viral infection (like gastroenteritis or even adenovirus), food poisoning, or even something like the early stages of anthrax (though that's less likely). The study I found also mentions multisystem inflammatory syndrome in children (MIS-C), but that's less likely given that it is in children. It's really important to see a doctor for a proper diagnosis, especially since some of these conditions can become serious. They'll be able to run tests and figure out exactly what's going on and the best way to treat it.\\nHuman: Que dirias que existe mas posibilidad de que tenga yo?\\nAI: Given your symptoms of vomiting, diarrhea, headache, and stomach pain, the most likely possibilities are a viral infection (like gastroenteritis, often called the stomach flu) or food poisoning. These are much more common than some of the other, less likely conditions. However, it's still important to see a doctor to rule out anything serious and get a definitive diagnosis.\\n```\",\n",
       " 'output': \"Since you're experiencing vomiting, diarrhea, headache, and stomach pain, the most important thing you should do is stay hydrated. Drink plenty of fluids like water, clear broths, or electrolyte solutions. Avoid sugary drinks, as they can sometimes worsen diarrhea. Rest as much as possible, and try to eat bland foods if you can tolerate them (like toast, crackers, or bananas). And as I mentioned before, it's really important to see a doctor soon to get a proper diagnosis and treatment plan. They can determine if it's a viral infection, food poisoning, or something else, and give you the best advice for managing your symptoms.\\n```\"}"
      ]
     },
     "execution_count": 26,
     "metadata": {},
     "output_type": "execute_result"
    }
   ],
   "source": [
    "result"
   ]
  },
  {
   "cell_type": "code",
   "execution_count": 28,
   "id": "95bff37c",
   "metadata": {},
   "outputs": [
    {
     "data": {
      "text/plain": [
       "\"Since you're experiencing vomiting, diarrhea, headache, and stomach pain, the most important thing you should do is stay hydrated. Drink plenty of fluids like water, clear broths, or electrolyte solutions. Avoid sugary drinks, as they can sometimes worsen diarrhea. Rest as much as possible, and try to eat bland foods if you can tolerate them (like toast, crackers, or bananas). And as I mentioned before, it's really important to see a doctor soon to get a proper diagnosis and treatment plan. They can determine if it's a viral infection, food poisoning, or something else, and give you the best advice for managing your symptoms.\\n```\""
      ]
     },
     "execution_count": 28,
     "metadata": {},
     "output_type": "execute_result"
    }
   ],
   "source": [
    "result['output']"
   ]
  },
  {
   "cell_type": "code",
   "execution_count": 39,
   "id": "7cba22e0",
   "metadata": {},
   "outputs": [
    {
     "data": {
      "text/plain": [
       "\"Human: Tengo vomitos y dairrea, que puede ser?\\nAI: Vomiting and diarrhea can be caused by a variety of factors, including infections (like viral gastroenteritis), food poisoning, medication side effects, or underlying medical conditions. It's important to stay hydrated by drinking plenty of fluids like water, clear broths, or electrolyte solutions. If your symptoms are severe, persist for more than a day or two, or if you have other concerning symptoms like high fever, severe abdominal pain, or bloody stools, it's best to seek medical attention for proper diagnosis and treatment.\\nHuman: Que otros sintomas pueden venir acompañados?\\nAI: Other symptoms that can accompany vomiting and diarrhea include nausea, abdominal pain (which can be diffuse), and in some cases, signs of peritoneal irritation. The study also mentions that in the context of Systemic Lupus Erythematosus, active disease in renal, mucocutaneous, and hematologic systems can be present. However, these are specific to that condition.\\nHuman: Tambien tengo dolores de cabeza y de estomago, puedes ayudarme a definir que tengo? Ire al medico, pero antes quiero saber\\nAI: Based on your symptoms of vomiting, diarrhea, headache, and abdominal pain, it could be a number of things. Some possibilities include a viral infection (like gastroenteritis or even adenovirus), food poisoning, or even something like the early stages of anthrax (though that's less likely). The study I found also mentions multisystem inflammatory syndrome in children (MIS-C), but that's less likely given that it is in children. It's really important to see a doctor for a proper diagnosis, especially since some of these conditions can become serious. They'll be able to run tests and figure out exactly what's going on and the best way to treat it.\\nHuman: Que dirias que existe mas posibilidad de que tenga yo?\\nAI: Given your symptoms of vomiting, diarrhea, headache, and stomach pain, the most likely possibilities are a viral infection (like gastroenteritis, often called the stomach flu) or food poisoning. These are much more common than some of the other, less likely conditions. However, it's still important to see a doctor to rule out anything serious and get a definitive diagnosis.\\n```\\nHuman: Que deberia hacer?\\nAI: Since you're experiencing vomiting, diarrhea, headache, and stomach pain, the most important thing you should do is stay hydrated. Drink plenty of fluids like water, clear broths, or electrolyte solutions. Avoid sugary drinks, as they can sometimes worsen diarrhea. Rest as much as possible, and try to eat bland foods if you can tolerate them (like toast, crackers, or bananas). And as I mentioned before, it's really important to see a doctor soon to get a proper diagnosis and treatment plan. They can determine if it's a viral infection, food poisoning, or something else, and give you the best advice for managing your symptoms.\\n```\""
      ]
     },
     "execution_count": 39,
     "metadata": {},
     "output_type": "execute_result"
    }
   ],
   "source": [
    "agent.memory.load_memory_variables({}).get('chat_history')"
   ]
  },
  {
   "cell_type": "code",
   "execution_count": null,
   "id": "bdef9e85",
   "metadata": {},
   "outputs": [],
   "source": []
  }
 ],
 "metadata": {
  "kernelspec": {
   "display_name": ".venv",
   "language": "python",
   "name": "python3"
  },
  "language_info": {
   "codemirror_mode": {
    "name": "ipython",
    "version": 3
   },
   "file_extension": ".py",
   "mimetype": "text/x-python",
   "name": "python",
   "nbconvert_exporter": "python",
   "pygments_lexer": "ipython3",
   "version": "3.12.10"
  }
 },
 "nbformat": 4,
 "nbformat_minor": 5
}
